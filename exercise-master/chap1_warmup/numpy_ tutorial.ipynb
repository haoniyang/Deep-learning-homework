{
 "cells": [
  {
   "cell_type": "markdown",
   "metadata": {},
   "source": [
    "#                                           numpy 练习题"
   ]
  },
  {
   "cell_type": "markdown",
   "metadata": {
    "collapsed": true
   },
   "source": [
    " "
   ]
  },
  {
   "cell_type": "markdown",
   "metadata": {},
   "source": [
    "### numpy 的array操作"
   ]
  },
  {
   "cell_type": "markdown",
   "metadata": {},
   "source": [
    "#### 1.导入numpy库"
   ]
  },
  {
   "cell_type": "code",
   "execution_count": 2,
   "metadata": {
    "collapsed": true
   },
   "outputs": [],
   "source": [
    "import numpy as np"
   ]
  },
  {
   "cell_type": "markdown",
   "metadata": {},
   "source": [
    "#### 2.建立一个一维数组 a 初始化为[4,5,6], (1)输出a 的类型（type）(2)输出a的各维度的大小（shape）(3)输出 a的第一个元素（值为4）"
   ]
  },
  {
   "cell_type": "code",
   "execution_count": 3,
   "metadata": {
    "collapsed": true
   },
   "outputs": [
    {
     "name": "stdout",
     "output_type": "stream",
     "text": [
      "Type of a: <class 'numpy.ndarray'>\n",
      "Shape of a: (3,)\n",
      "First element of a: 4\n"
     ]
    }
   ],
   "source": [
    "a = np.array([4,5,6])\n",
    "\n",
    "print(\"Type of a:\", type(a))\n",
    "\n",
    "print(\"Shape of a:\",a.shape)\n",
    "\n",
    "print(\"First element of a:\", a[0])"
   ]
  },
  {
   "cell_type": "markdown",
   "metadata": {},
   "source": [
    "#### 3.建立一个二维数组 b,初始化为 [ [4, 5, 6],[1, 2, 3]] (1)输出各维度的大小（shape）(2)输出 b(0,0)，b(0,1),b(1,1) 这三个元素（对应值分别为4,5,2）"
   ]
  },
  {
   "cell_type": "code",
   "execution_count": 4,
   "metadata": {
    "collapsed": true
   },
   "outputs": [
    {
     "name": "stdout",
     "output_type": "stream",
     "text": [
      "Shape of b: (2, 3)\n",
      "b(0,0): 4\n",
      "b(0,1): 5\n",
      "b(1,1): 2\n"
     ]
    }
   ],
   "source": [
    "b = np.array([[4, 5, 6], [1, 2, 3]])\n",
    "\n",
    "print(\"Shape of b:\", b.shape)\n",
    "\n",
    "print(\"b(0,0):\", b[0, 0])\n",
    "print(\"b(0,1):\", b[0, 1])\n",
    "print(\"b(1,1):\", b[1, 1])"
   ]
  },
  {
   "cell_type": "markdown",
   "metadata": {},
   "source": [
    "#### 4.  (1)建立一个全0矩阵 a, 大小为 3x3; 类型为整型（提示: dtype = int）(2)建立一个全1矩阵b,大小为4x5;  (3)建立一个单位矩阵c ,大小为4x4; (4)生成一个随机数矩阵d,大小为 3x2."
   ]
  },
  {
   "cell_type": "code",
   "execution_count": 5,
   "metadata": {
    "collapsed": true
   },
   "outputs": [
    {
     "name": "stdout",
     "output_type": "stream",
     "text": [
      "Matrix a:\n",
      " [[0 0 0]\n",
      " [0 0 0]\n",
      " [0 0 0]]\n",
      "Matrix b:\n",
      " [[1. 1. 1. 1. 1.]\n",
      " [1. 1. 1. 1. 1.]\n",
      " [1. 1. 1. 1. 1.]\n",
      " [1. 1. 1. 1. 1.]]\n",
      "Matrix c:\n",
      " [[1. 0. 0. 0.]\n",
      " [0. 1. 0. 0.]\n",
      " [0. 0. 1. 0.]\n",
      " [0. 0. 0. 1.]]\n",
      "Matrix d:\n",
      " [[0.28104243 0.33199913]\n",
      " [0.91944839 0.7340555 ]\n",
      " [0.12319311 0.5313429 ]]\n"
     ]
    }
   ],
   "source": [
    "# (1) 建立一个全0矩阵 a, 大小为 3x3; 类型为整型（dtype = int）\n",
    "a = np.zeros((3, 3), dtype=int)\n",
    "print(\"Matrix a:\\n\", a)\n",
    "\n",
    "# (2) 建立一个全1矩阵 b, 大小为 4x5\n",
    "b = np.ones((4, 5))\n",
    "print(\"Matrix b:\\n\", b)\n",
    "\n",
    "# (3) 建立一个单位矩阵 c, 大小为 4x4\n",
    "c = np.eye(4)\n",
    "print(\"Matrix c:\\n\", c)\n",
    "\n",
    "# (4) 生成一个随机数矩阵 d, 大小为 3x2\n",
    "d = np.random.rand(3, 2)\n",
    "print(\"Matrix d:\\n\", d)"
   ]
  },
  {
   "cell_type": "markdown",
   "metadata": {},
   "source": [
    "#### 5. 建立一个数组 a,(值为[[1, 2, 3, 4], [5, 6, 7, 8], [9, 10, 11, 12]] ) ,(1)打印a; (2)输出  下标为(2,3),(0,0) 这两个数组元素的值"
   ]
  },
  {
   "cell_type": "code",
   "execution_count": 6,
   "metadata": {
    "collapsed": true
   },
   "outputs": [
    {
     "name": "stdout",
     "output_type": "stream",
     "text": [
      "Array a:\n",
      " [[ 1  2  3  4]\n",
      " [ 5  6  7  8]\n",
      " [ 9 10 11 12]]\n",
      "Value at index (2, 3): 12\n",
      "Value at index (0, 0): 1\n"
     ]
    }
   ],
   "source": [
    "a = np.array([[1, 2, 3, 4], [5, 6, 7, 8], [9, 10, 11, 12]])\n",
    "\n",
    "# (1) 打印a\n",
    "print(\"Array a:\\n\", a)\n",
    "\n",
    "# (2) 输出下标为(2,3),(0,0)这两个数组元素的值\n",
    "element1 = a[2, 3]\n",
    "element2 = a[0, 0]\n",
    "\n",
    "print(\"Value at index (2, 3):\", element1)\n",
    "print(\"Value at index (0, 0):\", element2)"
   ]
  },
  {
   "cell_type": "markdown",
   "metadata": {},
   "source": [
    "#### 6.把上一题的 a数组的 0到1行 2到3列，放到b里面去，（此处不需要从新建立a,直接调用即可）(1),输出b;(2) 输出b 的（0,0）这个元素的值"
   ]
  },
  {
   "cell_type": "code",
   "execution_count": 7,
   "metadata": {
    "collapsed": true
   },
   "outputs": [
    {
     "name": "stdout",
     "output_type": "stream",
     "text": [
      "Array b:\n",
      " [[3 4]\n",
      " [7 8]]\n",
      "Value at index (0, 0) in array b: 3\n"
     ]
    }
   ],
   "source": [
    "b = a[0:2, 2:4]\n",
    "\n",
    "# (1) 输出b\n",
    "print(\"Array b:\\n\", b)\n",
    "\n",
    "# (2) 输出b的(0, 0)这个元素的值\n",
    "element_b = b[0, 0]\n",
    "print(\"Value at index (0, 0) in array b:\", element_b)"
   ]
  },
  {
   "cell_type": "markdown",
   "metadata": {},
   "source": [
    " #### 7. 把第5题中数组a的最后两行所有元素放到 c中，（提示： a[1:2, :]）(1)输出 c ; (2) 输出 c 中第一行的最后一个元素（提示，使用 -1                 表示最后一个元素）"
   ]
  },
  {
   "cell_type": "code",
   "execution_count": 9,
   "metadata": {
    "collapsed": true
   },
   "outputs": [
    {
     "name": "stdout",
     "output_type": "stream",
     "text": [
      "Array c:\n",
      " [[ 5  6  7  8]\n",
      " [ 9 10 11 12]]\n",
      "Last element in the first row of array c: 8\n"
     ]
    }
   ],
   "source": [
    "c = a[1:3, :]\n",
    "\n",
    "# (1) 输出c\n",
    "print(\"Array c:\\n\", c)\n",
    "\n",
    "# (2) 输出c中第一行的最后一个元素\n",
    "element_c = c[0, -1]\n",
    "print(\"Last element in the first row of array c:\", element_c)"
   ]
  },
  {
   "cell_type": "markdown",
   "metadata": {},
   "source": [
    "#### 8.建立数组a,初始化a为[[1, 2], [3, 4], [5, 6]]，输出 （0,0）（1,1）（2,0）这三个元素（提示： 使用 print(a[[0, 1, 2], [0, 1, 0]]) ）"
   ]
  },
  {
   "cell_type": "code",
   "execution_count": null,
   "metadata": {
    "collapsed": true
   },
   "outputs": [],
   "source": [
    "# 初始化数组a\n",
    "a = np.array([[1, 2], [3, 4], [5, 6]])\n",
    "\n",
    "# 输出 (0, 0), (1, 1), (2, 0) 这三个元素\n",
    "elements = a[[0, 1, 2], [0, 1, 0]]\n",
    "\n",
    "# 打印结果\n",
    "print(\"Elements at indices (0, 0), (1, 1), (2, 0):\", elements)"
   ]
  },
  {
   "cell_type": "markdown",
   "metadata": {},
   "source": [
    "#### 9.建立矩阵a ,初始化为[[1, 2, 3], [4, 5, 6], [7, 8, 9], [10, 11, 12]]，输出(0,0),(1,2),(2,0),(3,1) (提示使用 b = np.array([0, 2, 0, 1])                     print(a[np.arange(4), b]))"
   ]
  },
  {
   "cell_type": "code",
   "execution_count": 12,
   "metadata": {
    "collapsed": true
   },
   "outputs": [
    {
     "name": "stdout",
     "output_type": "stream",
     "text": [
      "Elements at indices (0, 0), (1, 2), (2, 0), (3, 1): [ 1  6  7 11]\n"
     ]
    }
   ],
   "source": [
    "# 初始化矩阵a\n",
    "a = np.array([[1, 2, 3], [4, 5, 6], [7, 8, 9], [10, 11, 12]])\n",
    "\n",
    "# 定义索引数组b\n",
    "b = np.array([0, 2, 0, 1])\n",
    "\n",
    "# 使用花式索引输出指定位置的元素\n",
    "result = a[np.arange(4), b]\n",
    "\n",
    "# 打印结果\n",
    "print(\"Elements at indices (0, 0), (1, 2), (2, 0), (3, 1):\", result)"
   ]
  },
  {
   "cell_type": "markdown",
   "metadata": {},
   "source": [
    "#### 10.对9 中输出的那四个元素，每个都加上10，然后重新输出矩阵a.(提示： a[np.arange(4), b] += 10 ）"
   ]
  },
  {
   "cell_type": "code",
   "execution_count": 28,
   "metadata": {
    "collapsed": true
   },
   "outputs": [
    {
     "name": "stdout",
     "output_type": "stream",
     "text": [
      "Updated matrix a:\n",
      " [[11  2  3]\n",
      " [ 4  5 16]\n",
      " [17  8  9]\n",
      " [10 21 12]]\n"
     ]
    }
   ],
   "source": [
    "# 初始化矩阵a\n",
    "a = np.array([[1, 2, 3], [4, 5, 6], [7, 8, 9], [10, 11, 12]])\n",
    "\n",
    "# 定义索引数组b\n",
    "b = np.array([0, 2, 0, 1])\n",
    "\n",
    "# 对指定位置的元素加上10\n",
    "a[np.arange(4), b] += 10\n",
    "\n",
    "# 重新输出矩阵a\n",
    "print(\"Updated matrix a:\\n\", a)"
   ]
  },
  {
   "cell_type": "markdown",
   "metadata": {},
   "source": [
    "### array 的数学运算"
   ]
  },
  {
   "cell_type": "markdown",
   "metadata": {},
   "source": [
    "#### 11.  执行 x = np.array([1, 2])，然后输出 x 的数据类型"
   ]
  },
  {
   "cell_type": "code",
   "execution_count": 14,
   "metadata": {
    "collapsed": true
   },
   "outputs": [
    {
     "name": "stdout",
     "output_type": "stream",
     "text": [
      "Data type of x: int32\n"
     ]
    }
   ],
   "source": [
    "x = np.array([1, 2])\n",
    "\n",
    "# 输出 x 的数据类型\n",
    "print(\"Data type of x:\", x.dtype)"
   ]
  },
  {
   "cell_type": "markdown",
   "metadata": {},
   "source": [
    "#### 12.执行 x = np.array([1.0, 2.0]) ，然后输出 x 的数据类类型"
   ]
  },
  {
   "cell_type": "code",
   "execution_count": 15,
   "metadata": {
    "collapsed": true
   },
   "outputs": [
    {
     "name": "stdout",
     "output_type": "stream",
     "text": [
      "Data type of x: float64\n"
     ]
    }
   ],
   "source": [
    "x = np.array([1.0, 2.0])\n",
    "\n",
    "# 输出 x 的数据类型\n",
    "print(\"Data type of x:\", x.dtype)"
   ]
  },
  {
   "cell_type": "markdown",
   "metadata": {},
   "source": [
    "#### 13.执行 x = np.array([[1, 2], [3, 4]], dtype=np.float64) ，y = np.array([[5, 6], [7, 8]], dtype=np.float64)，然后输出 x+y ,和 np.add(x,y)"
   ]
  },
  {
   "cell_type": "code",
   "execution_count": 43,
   "metadata": {
    "collapsed": true
   },
   "outputs": [
    {
     "name": "stdout",
     "output_type": "stream",
     "text": [
      "Result of x + y:\n",
      " [[ 6.  8.]\n",
      " [10. 12.]]\n",
      "Result of np.add(x, y):\n",
      " [[ 6.  8.]\n",
      " [10. 12.]]\n"
     ]
    }
   ],
   "source": [
    "x = np.array([[1, 2], [3, 4]], dtype=np.float64)\n",
    "y = np.array([[5, 6], [7, 8]], dtype=np.float64)\n",
    "\n",
    "# 输出 x + y\n",
    "result_sum = x + y\n",
    "print(\"Result of x + y:\\n\", result_sum)\n",
    "\n",
    "# 使用 np.add 输出 x + y\n",
    "result_add = np.add(x, y)\n",
    "print(\"Result of np.add(x, y):\\n\", result_add)"
   ]
  },
  {
   "cell_type": "markdown",
   "metadata": {},
   "source": [
    "#### 14. 利用 13题目中的x,y 输出 x-y 和 np.subtract(x,y)"
   ]
  },
  {
   "cell_type": "code",
   "execution_count": 44,
   "metadata": {
    "collapsed": true
   },
   "outputs": [
    {
     "name": "stdout",
     "output_type": "stream",
     "text": [
      "Result of x - y:\n",
      " [[-4. -4.]\n",
      " [-4. -4.]]\n",
      "Result of np.subtract(x, y):\n",
      " [[-4. -4.]\n",
      " [-4. -4.]]\n"
     ]
    }
   ],
   "source": [
    "# 计算 x - y\n",
    "result_diff = x - y\n",
    "print(\"Result of x - y:\\n\", result_diff)\n",
    "\n",
    "# 使用 np.subtract 计算 x - y\n",
    "result_subtract = np.subtract(x, y)\n",
    "print(\"Result of np.subtract(x, y):\\n\", result_subtract)"
   ]
  },
  {
   "cell_type": "markdown",
   "metadata": {},
   "source": [
    "#### 15. 利用13题目中的x，y 输出 x*y ,和 np.multiply(x, y) 还有  np.dot(x,y),比较差异。然后自己换一个不是方阵的试试。"
   ]
  },
  {
   "cell_type": "code",
   "execution_count": 45,
   "metadata": {
    "collapsed": true
   },
   "outputs": [
    {
     "name": "stdout",
     "output_type": "stream",
     "text": [
      "Result of x * y (element-wise multiplication):\n",
      " [[ 5. 12.]\n",
      " [21. 32.]]\n",
      "Result of np.multiply(x, y) (element-wise multiplication):\n",
      " [[ 5. 12.]\n",
      " [21. 32.]]\n",
      "Result of np.dot(x, y) (matrix multiplication):\n",
      " [[19. 22.]\n",
      " [43. 50.]]\n"
     ]
    }
   ],
   "source": [
    "# 计算 x * y\n",
    "result_multiply = x * y\n",
    "print(\"Result of x * y (element-wise multiplication):\\n\", result_multiply)\n",
    "\n",
    "# 使用 np.multiply 计算 x * y\n",
    "result_np_multiply = np.multiply(x, y)\n",
    "print(\"Result of np.multiply(x, y) (element-wise multiplication):\\n\", result_np_multiply)\n",
    "\n",
    "# 使用 np.dot 计算矩阵乘法\n",
    "result_dot = np.dot(x, y)\n",
    "print(\"Result of np.dot(x, y) (matrix multiplication):\\n\", result_dot)\n",
    "\n",
    "#尝试不是方阵的\n",
    "# x = np.array([[1, 2, 3], [3, 4, 5]], dtype=np.float64)\n",
    "# y = np.array([[5, 6], [7, 8]], dtype=np.float64)\n",
    "# result_dot = np.dot(x, x)\n",
    "\n",
    "# ---------------------------------------------------------------------------\n",
    "# ValueError                                Traceback (most recent call last)\n",
    "# Cell In[33], line 16\n",
    "#      14 x = np.array([[1, 2, 3], [3, 4, 5]], dtype=np.float64)\n",
    "#      15 y = np.array([[5, 6], [7, 8]], dtype=np.float64)\n",
    "# ---> 16 result_dot = np.dot(x, x)\n",
    "\n",
    "# File <__array_function__ internals>:180, in dot(*args, **kwargs)\n",
    "\n",
    "# ValueError: shapes (2,3) and (2,3) not aligned: 3 (dim 1) != 2 (dim 0)"
   ]
  },
  {
   "cell_type": "markdown",
   "metadata": {},
   "source": [
    "#### 16. 利用13题目中的x,y,输出 x / y .(提示 ： 使用函数 np.divide())"
   ]
  },
  {
   "cell_type": "code",
   "execution_count": 46,
   "metadata": {},
   "outputs": [
    {
     "name": "stdout",
     "output_type": "stream",
     "text": [
      "Result of np.divide(x, y):\n",
      " [[0.2        0.33333333]\n",
      " [0.42857143 0.5       ]]\n",
      "Result of x / y (using / operator):\n",
      " [[0.2        0.33333333]\n",
      " [0.42857143 0.5       ]]\n"
     ]
    }
   ],
   "source": [
    "# 使用 np.divide 计算 x / y\n",
    "result_divide = np.divide(x, y)\n",
    "print(\"Result of np.divide(x, y):\\n\", result_divide)\n",
    "\n",
    "# 直接使用除法运算符 / 计算 x / y\n",
    "result_divide_operator = x / y\n",
    "print(\"Result of x / y (using / operator):\\n\", result_divide_operator)"
   ]
  },
  {
   "cell_type": "markdown",
   "metadata": {},
   "source": [
    "#### 17. 利用13题目中的x,输出 x的 开方。(提示： 使用函数 np.sqrt() )"
   ]
  },
  {
   "cell_type": "code",
   "execution_count": 47,
   "metadata": {
    "collapsed": true
   },
   "outputs": [
    {
     "name": "stdout",
     "output_type": "stream",
     "text": [
      "Square root of x:\n",
      " [[1.         1.41421356]\n",
      " [1.73205081 2.        ]]\n"
     ]
    }
   ],
   "source": [
    "# 使用 np.sqrt 计算 x 的开方\n",
    "result_sqrt = np.sqrt(x)\n",
    "print(\"Square root of x:\\n\", result_sqrt)"
   ]
  },
  {
   "cell_type": "markdown",
   "metadata": {},
   "source": [
    "#### 18.利用13题目中的x,y ,执行 print(x.dot(y)) 和 print(np.dot(x,y))"
   ]
  },
  {
   "cell_type": "code",
   "execution_count": 48,
   "metadata": {
    "collapsed": true
   },
   "outputs": [
    {
     "name": "stdout",
     "output_type": "stream",
     "text": [
      "Result of x.dot(y):\n",
      " [[19. 22.]\n",
      " [43. 50.]]\n",
      "Result of np.dot(x, y):\n",
      " [[19. 22.]\n",
      " [43. 50.]]\n"
     ]
    }
   ],
   "source": [
    "# 使用 x.dot(y) 进行矩阵乘法\n",
    "result_dot_method = x.dot(y)\n",
    "print(\"Result of x.dot(y):\\n\", result_dot_method)\n",
    "\n",
    "# 使用 np.dot(x, y) 进行矩阵乘法\n",
    "result_np_dot = np.dot(x, y)\n",
    "print(\"Result of np.dot(x, y):\\n\", result_np_dot)"
   ]
  },
  {
   "cell_type": "markdown",
   "metadata": {},
   "source": [
    "##### 19.利用13题目中的 x,进行求和。提示：输出三种求和 (1)print(np.sum(x)):   (2)print(np.sum(x，axis =0 ));   (3)print(np.sum(x,axis = 1))"
   ]
  },
  {
   "cell_type": "code",
   "execution_count": 49,
   "metadata": {
    "collapsed": true
   },
   "outputs": [
    {
     "name": "stdout",
     "output_type": "stream",
     "text": [
      "Sum of all elements in x: 10.0\n",
      "Sum along axis 0 (column-wise sum): [4. 6.]\n",
      "Sum along axis 1 (row-wise sum): [3. 7.]\n"
     ]
    }
   ],
   "source": [
    "# (1) 对整个数组进行求和\n",
    "sum_total = np.sum(x)\n",
    "print(\"Sum of all elements in x:\", sum_total)\n",
    "\n",
    "# (2) 按列(axis=0)对数组进行求和\n",
    "sum_axis_0 = np.sum(x, axis=0)\n",
    "print(\"Sum along axis 0 (column-wise sum):\", sum_axis_0)\n",
    "\n",
    "# (3) 按行(axis=1)对数组进行求和\n",
    "sum_axis_1 = np.sum(x, axis=1)\n",
    "print(\"Sum along axis 1 (row-wise sum):\", sum_axis_1)"
   ]
  },
  {
   "cell_type": "markdown",
   "metadata": {},
   "source": [
    "#### 20.利用13题目中的 x,进行求平均数（提示：输出三种平均数(1)print(np.mean(x)) (2)print(np.mean(x,axis = 0))(3) print(np.mean(x,axis =1))）"
   ]
  },
  {
   "cell_type": "code",
   "execution_count": 50,
   "metadata": {
    "collapsed": true
   },
   "outputs": [
    {
     "name": "stdout",
     "output_type": "stream",
     "text": [
      "Mean of all elements in x: 2.5\n",
      "Mean along axis 0 (column-wise mean): [2. 3.]\n",
      "Mean along axis 1 (row-wise mean): [1.5 3.5]\n"
     ]
    }
   ],
   "source": [
    "# (1) 计算整个数组的平均数\n",
    "mean_total = np.mean(x)\n",
    "print(\"Mean of all elements in x:\", mean_total)\n",
    "\n",
    "# (2) 按列(axis=0)计算数组的平均数\n",
    "mean_axis_0 = np.mean(x, axis=0)\n",
    "print(\"Mean along axis 0 (column-wise mean):\", mean_axis_0)\n",
    "\n",
    "# (3) 按行(axis=1)计算数组的平均数\n",
    "mean_axis_1 = np.mean(x, axis=1)\n",
    "print(\"Mean along axis 1 (row-wise mean):\", mean_axis_1)"
   ]
  },
  {
   "cell_type": "markdown",
   "metadata": {},
   "source": [
    "#### 21.利用13题目中的x，对x 进行矩阵转置，然后输出转置后的结果，（提示： x.T 表示对 x 的转置）"
   ]
  },
  {
   "cell_type": "code",
   "execution_count": 51,
   "metadata": {
    "collapsed": true
   },
   "outputs": [
    {
     "name": "stdout",
     "output_type": "stream",
     "text": [
      "Original matrix x:\n",
      " [[1. 2.]\n",
      " [3. 4.]]\n",
      "Transposed matrix x:\n",
      " [[1. 3.]\n",
      " [2. 4.]]\n"
     ]
    }
   ],
   "source": [
    "# 对 x 进行矩阵转置\n",
    "x_transposed = x.T\n",
    "\n",
    "# 输出转置后的结果\n",
    "print(\"Original matrix x:\\n\", x)\n",
    "print(\"Transposed matrix x:\\n\", x_transposed)"
   ]
  },
  {
   "cell_type": "markdown",
   "metadata": {
    "collapsed": true
   },
   "source": [
    "#### 22.利用13题目中的x,求e的指数（提示： 函数 np.exp()）"
   ]
  },
  {
   "cell_type": "code",
   "execution_count": 52,
   "metadata": {
    "collapsed": true
   },
   "outputs": [
    {
     "name": "stdout",
     "output_type": "stream",
     "text": [
      "Exponential of x:\n",
      " [[ 2.71828183  7.3890561 ]\n",
      " [20.08553692 54.59815003]]\n"
     ]
    }
   ],
   "source": [
    "# 对数组 x 中的元素求指数\n",
    "result_exp = np.exp(x)\n",
    "\n",
    "# 输出结果\n",
    "print(\"Exponential of x:\\n\", result_exp)"
   ]
  },
  {
   "cell_type": "markdown",
   "metadata": {},
   "source": [
    "#### 23.利用13题目中的 x,求值最大的下标（提示(1)print(np.argmax(x)) ,(2) print(np.argmax(x, axis =0))(3)print(np.argmax(x),axis =1))"
   ]
  },
  {
   "cell_type": "code",
   "execution_count": 53,
   "metadata": {},
   "outputs": [
    {
     "name": "stdout",
     "output_type": "stream",
     "text": [
      "Index of maximum value in x (flattened): 3\n",
      "Indices of maximum values along axis 0 (column-wise): [1 1]\n",
      "Indices of maximum values along axis 1 (row-wise): [1 1]\n"
     ]
    }
   ],
   "source": [
    "# (1) 找到整个数组中最大值的索引\n",
    "max_index_total = np.argmax(x)\n",
    "print(\"Index of maximum value in x (flattened):\", max_index_total)\n",
    "\n",
    "# (2) 按列(axis=0)找到每列最大值的索引\n",
    "max_index_axis_0 = np.argmax(x, axis=0)\n",
    "print(\"Indices of maximum values along axis 0 (column-wise):\", max_index_axis_0)\n",
    "\n",
    "# (3) 按行(axis=1)找到每行最大值的索引\n",
    "max_index_axis_1 = np.argmax(x, axis=1)\n",
    "print(\"Indices of maximum values along axis 1 (row-wise):\", max_index_axis_1)"
   ]
  },
  {
   "cell_type": "markdown",
   "metadata": {},
   "source": [
    "#### 24,画图，y=x*x 其中 x = np.arange(0, 100, 0.1) （提示这里用到  matplotlib.pyplot 库）"
   ]
  },
  {
   "cell_type": "code",
   "execution_count": 57,
   "metadata": {
    "collapsed": true
   },
   "outputs": [
    {
     "data": {
      "image/png": "[encoded data removed]",
      "text/plain": [
       "<Figure size 640x480 with 1 Axes>"
      ]
     },
     "metadata": {},
     "output_type": "display_data"
    }
   ],
   "source": [
    "import matplotlib.pyplot as plt\n",
    "# 生成 x 值\n",
    "x = np.arange(0, 100, 0.1)\n",
    "\n",
    "# 计算对应的 y 值\n",
    "y = x * x\n",
    "\n",
    "# 绘制图形\n",
    "plt.plot(x, y, label='y=x*x')\n",
    "\n",
    "# 添加标签和标题\n",
    "plt.xlabel('x')\n",
    "plt.ylabel('y')\n",
    "plt.title('Plot of y=x*x')\n",
    "\n",
    "# 显示图例\n",
    "plt.legend()\n",
    "\n",
    "# 显示图形\n",
    "plt.show()"
   ]
  },
  {
   "cell_type": "markdown",
   "metadata": {},
   "source": [
    "#### 25.画图。画正弦函数和余弦函数， x = np.arange(0, 3 * np.pi, 0.1)(提示：这里用到 np.sin() np.cos() 函数和 matplotlib.pyplot 库)"
   ]
  },
  {
   "cell_type": "code",
   "execution_count": 58,
   "metadata": {
    "collapsed": true
   },
   "outputs": [
    {
     "data": {
      "image/png": "[encoded data removed]",
      "text/plain": [
       "<Figure size 640x480 with 1 Axes>"
      ]
     },
     "metadata": {},
     "output_type": "display_data"
    }
   ],
   "source": [
    "# 生成 x 值\n",
    "x = np.arange(0, 3 * np.pi, 0.1)\n",
    "\n",
    "# 计算正弦函数和余弦函数的对应 y 值\n",
    "y_sin = np.sin(x)\n",
    "y_cos = np.cos(x)\n",
    "\n",
    "# 绘制正弦函数图形\n",
    "plt.plot(x, y_sin, label='sin(x)', color='blue')\n",
    "\n",
    "# 绘制余弦函数图形\n",
    "plt.plot(x, y_cos, label='cos(x)', color='red')\n",
    "\n",
    "# 添加标签和标题\n",
    "plt.xlabel('x')\n",
    "plt.ylabel('y')\n",
    "plt.title('Plot of sin(x) and cos(x)')\n",
    "\n",
    "# 显示图例\n",
    "plt.legend()\n",
    "\n",
    "# 显示图形\n",
    "plt.show()"
   ]
  }
 ],
 "metadata": {
  "anaconda-cloud": {},
  "kernelspec": {
   "display_name": "Python 3",
   "language": "python",
   "name": "python3"
  },
  "language_info": {
   "codemirror_mode": {
    "name": "ipython",
    "version": 3
   },
   "file_extension": ".py",
   "mimetype": "text/x-python",
   "name": "python",
   "nbconvert_exporter": "python",
   "pygments_lexer": "ipython3",
   "version": "3.9.16"
  }
 },
 "nbformat": 4,
 "nbformat_minor": 1
}
