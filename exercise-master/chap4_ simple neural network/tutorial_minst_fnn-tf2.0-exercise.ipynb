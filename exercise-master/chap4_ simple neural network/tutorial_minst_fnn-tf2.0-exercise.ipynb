{
 "cells": [
  {
   "cell_type": "markdown",
   "metadata": {},
   "source": [
    "## 准备数据"
   ]
  },
  {
   "cell_type": "code",
   "execution_count": 25,
   "metadata": {},
   "outputs": [],
   "source": [
    "import os\n",
    "import numpy as np\n",
    "import tensorflow as tf\n",
    "from tensorflow import keras\n",
    "from tensorflow.keras import layers, optimizers, datasets\n",
    "\n",
    "os.environ['TF_CPP_MIN_LOG_LEVEL'] = '2'  # or any {'0', '1', '2'}\n",
    "\n",
    "def mnist_dataset():\n",
    "    (x, y), (x_test, y_test) = datasets.mnist.load_data()\n",
    "    #normalize\n",
    "    x = x/255.0\n",
    "    x_test = x_test/255.0\n",
    "    \n",
    "    return (x, y), (x_test, y_test)"
   ]
  },
  {
   "cell_type": "code",
   "execution_count": 26,
   "metadata": {},
   "outputs": [
    {
     "name": "stdout",
     "output_type": "stream",
     "text": [
      "[(1, 'a'), (2, 'b'), (3, 'c'), (4, 'd')]\n"
     ]
    }
   ],
   "source": [
    "print(list(zip([1, 2, 3, 4], ['a', 'b', 'c', 'd'])))"
   ]
  },
  {
   "cell_type": "markdown",
   "metadata": {},
   "source": [
    "## 建立模型"
   ]
  },
  {
   "cell_type": "code",
   "execution_count": 27,
   "metadata": {},
   "outputs": [],
   "source": [
    "class myModel:\n",
    "    def __init__(self):\n",
    "        ####################\n",
    "        '''声明模型对应的参数'''\n",
    "        self.W1 = tf.Variable(shape=[28*28,100],dtype=tf.float32,\n",
    "                              initial_value=tf.random.uniform(shape=[28*28, 100],minval=-0.5, maxval=0.5))\n",
    "        self.W2 = tf.Variable(shape=[100,10],dtype=tf.float32,initial_value=tf.random.uniform(shape=[100, 10],minval=-0.1, maxval=0.1))\n",
    "        self.b1 = tf.Variable(shape=[100],initial_value=tf.zeros(100))\n",
    "        self.b2 = tf.Variable(shape=[10],initial_value=tf.zeros(10))\n",
    "        self.trainable_variables = [self.W1, self.W2, self.b1, self.b2]\n",
    "        ####################\n",
    "    def __call__(self, x):\n",
    "        ####################\n",
    "        '''实现模型函数体，返回未归一化的logits'''\n",
    "        flat_x = tf.reshape(x, shape=[-1, 28*28])\n",
    "        h1 = tf.tanh(tf.matmul(flat_x, self.W1) + self.b1)\n",
    "        logits = tf.matmul(h1, self.W2) + self.b2\n",
    "        print(\"=======================logits=========================\",logits)\n",
    "        ####################\n",
    "        return logits\n",
    "        \n",
    "model = myModel()\n",
    "\n",
    "optimizer = optimizers.Adam()\n",
    "\n",
    "# def __init__(self):\n",
    "        \n",
    "#         self.W1 = np.random.normal(size=[28*28+1, 100])\n",
    "#         self.W2 = np.random.normal(size=[100, 10])\n",
    "        \n",
    "#         self.mul_h1 = Matmul()\n",
    "#         self.mul_h2 = Matmul()\n",
    "#         self.relu = Relu()\n",
    "#         self.softmax = Softmax()\n",
    "#         self.log = Log()"
   ]
  },
  {
   "cell_type": "markdown",
   "metadata": {},
   "source": [
    "## 计算 loss"
   ]
  },
  {
   "cell_type": "code",
   "execution_count": 28,
   "metadata": {},
   "outputs": [],
   "source": [
    "@tf.function\n",
    "def compute_loss(logits, labels):\n",
    "    return tf.reduce_mean(\n",
    "        tf.nn.sparse_softmax_cross_entropy_with_logits(\n",
    "            logits=logits, labels=labels))\n",
    "\n",
    "@tf.function\n",
    "def compute_accuracy(logits, labels):\n",
    "    predictions = tf.argmax(logits, axis=1)\n",
    "    return tf.reduce_mean(tf.cast(tf.equal(predictions, labels), tf.float32))\n",
    "\n",
    "@tf.function\n",
    "def train_one_step(model, optimizer, x, y):\n",
    "    with tf.GradientTape() as tape:\n",
    "        logits = model(x)\n",
    "        loss = compute_loss(logits, y)\n",
    "\n",
    "    # compute gradient\n",
    "    trainable_vars = [model.W1, model.W2, model.b1, model.b2]\n",
    "    grads = tape.gradient(loss, trainable_vars)\n",
    "    for g, v in zip(grads, trainable_vars):\n",
    "        v.assign_sub(0.01*g)\n",
    "\n",
    "    accuracy = compute_accuracy(logits, y)\n",
    "\n",
    "    # loss and accuracy is scalar tensor\n",
    "    return loss, accuracy\n",
    "\n",
    "@tf.function\n",
    "def test(model, x, y):\n",
    "    logits = model(x)\n",
    "    loss = compute_loss(logits, y)\n",
    "    accuracy = compute_accuracy(logits, y)\n",
    "    return loss, accuracy"
   ]
  },
  {
   "cell_type": "markdown",
   "metadata": {},
   "source": [
    "## 实际训练"
   ]
  },
  {
   "cell_type": "code",
   "execution_count": 29,
   "metadata": {},
   "outputs": [
    {
     "name": "stdout",
     "output_type": "stream",
     "text": [
      "=======================logits========================= Tensor(\"add_1:0\", shape=(60000, 10), dtype=float32)\n",
      "epoch 0 : loss 2.3326824 ; accuracy 0.11748333\n",
      "epoch 1 : loss 2.3227649 ; accuracy 0.123566665\n",
      "epoch 2 : loss 2.3129725 ; accuracy 0.13043334\n",
      "epoch 3 : loss 2.3033016 ; accuracy 0.13681667\n",
      "epoch 4 : loss 2.2937484 ; accuracy 0.14351666\n",
      "epoch 5 : loss 2.284309 ; accuracy 0.15068333\n",
      "epoch 6 : loss 2.2749803 ; accuracy 0.158\n",
      "epoch 7 : loss 2.2657585 ; accuracy 0.16488333\n",
      "epoch 8 : loss 2.2566411 ; accuracy 0.17066666\n",
      "epoch 9 : loss 2.2476246 ; accuracy 0.17825\n",
      "epoch 10 : loss 2.2387068 ; accuracy 0.18545\n",
      "epoch 11 : loss 2.2298844 ; accuracy 0.1922\n",
      "epoch 12 : loss 2.2211552 ; accuracy 0.19863333\n",
      "epoch 13 : loss 2.212517 ; accuracy 0.20585\n",
      "epoch 14 : loss 2.2039666 ; accuracy 0.2124\n",
      "epoch 15 : loss 2.1955025 ; accuracy 0.2186\n",
      "epoch 16 : loss 2.1871226 ; accuracy 0.22498333\n",
      "epoch 17 : loss 2.178825 ; accuracy 0.23186667\n",
      "epoch 18 : loss 2.170607 ; accuracy 0.23815\n",
      "epoch 19 : loss 2.1624675 ; accuracy 0.2443\n",
      "epoch 20 : loss 2.1544042 ; accuracy 0.25018334\n",
      "epoch 21 : loss 2.146416 ; accuracy 0.25623333\n",
      "epoch 22 : loss 2.1385007 ; accuracy 0.26265\n",
      "epoch 23 : loss 2.1306572 ; accuracy 0.26921666\n",
      "epoch 24 : loss 2.1228838 ; accuracy 0.27563334\n",
      "epoch 25 : loss 2.1151788 ; accuracy 0.28228334\n",
      "epoch 26 : loss 2.1075413 ; accuracy 0.2874\n",
      "epoch 27 : loss 2.09997 ; accuracy 0.29258335\n",
      "epoch 28 : loss 2.0924633 ; accuracy 0.29805\n",
      "epoch 29 : loss 2.08502 ; accuracy 0.30346668\n",
      "epoch 30 : loss 2.0776393 ; accuracy 0.30905\n",
      "epoch 31 : loss 2.0703197 ; accuracy 0.31433332\n",
      "epoch 32 : loss 2.06306 ; accuracy 0.31953335\n",
      "epoch 33 : loss 2.0558598 ; accuracy 0.32505\n",
      "epoch 34 : loss 2.0487175 ; accuracy 0.33041668\n",
      "epoch 35 : loss 2.0416324 ; accuracy 0.33533335\n",
      "epoch 36 : loss 2.0346034 ; accuracy 0.3402\n",
      "epoch 37 : loss 2.0276296 ; accuracy 0.34443334\n",
      "epoch 38 : loss 2.0207105 ; accuracy 0.349\n",
      "epoch 39 : loss 2.0138447 ; accuracy 0.35365\n",
      "epoch 40 : loss 2.0070317 ; accuracy 0.35823333\n",
      "epoch 41 : loss 2.0002708 ; accuracy 0.36245\n",
      "epoch 42 : loss 1.9935609 ; accuracy 0.36723334\n",
      "epoch 43 : loss 1.9869016 ; accuracy 0.37191668\n",
      "epoch 44 : loss 1.9802922 ; accuracy 0.37615\n",
      "epoch 45 : loss 1.9737318 ; accuracy 0.3806\n",
      "epoch 46 : loss 1.9672197 ; accuracy 0.38495\n",
      "epoch 47 : loss 1.9607555 ; accuracy 0.3891\n",
      "epoch 48 : loss 1.9543382 ; accuracy 0.39308333\n",
      "epoch 49 : loss 1.9479674 ; accuracy 0.39741668\n",
      "epoch 50 : loss 1.9416428 ; accuracy 0.40123335\n",
      "epoch 51 : loss 1.9353633 ; accuracy 0.40501666\n",
      "epoch 52 : loss 1.9291286 ; accuracy 0.40895\n",
      "epoch 53 : loss 1.9229382 ; accuracy 0.41231668\n",
      "epoch 54 : loss 1.9167914 ; accuracy 0.41626668\n",
      "epoch 55 : loss 1.9106878 ; accuracy 0.41958332\n",
      "epoch 56 : loss 1.904627 ; accuracy 0.42348334\n",
      "epoch 57 : loss 1.8986081 ; accuracy 0.42688334\n",
      "epoch 58 : loss 1.8926312 ; accuracy 0.43028334\n",
      "epoch 59 : loss 1.8866953 ; accuracy 0.43335\n",
      "epoch 60 : loss 1.8808002 ; accuracy 0.43663332\n",
      "epoch 61 : loss 1.8749455 ; accuracy 0.43996668\n",
      "epoch 62 : loss 1.8691307 ; accuracy 0.4434\n",
      "epoch 63 : loss 1.8633555 ; accuracy 0.44656667\n",
      "epoch 64 : loss 1.8576192 ; accuracy 0.44966668\n",
      "epoch 65 : loss 1.8519214 ; accuracy 0.45291665\n",
      "epoch 66 : loss 1.8462621 ; accuracy 0.4564\n",
      "epoch 67 : loss 1.8406407 ; accuracy 0.45953333\n",
      "epoch 68 : loss 1.8350564 ; accuracy 0.46248335\n",
      "epoch 69 : loss 1.8295095 ; accuracy 0.46555\n",
      "epoch 70 : loss 1.8239992 ; accuracy 0.46863332\n",
      "epoch 71 : loss 1.8185256 ; accuracy 0.47168332\n",
      "epoch 72 : loss 1.8130876 ; accuracy 0.47506666\n",
      "epoch 73 : loss 1.8076854 ; accuracy 0.47798333\n",
      "epoch 74 : loss 1.8023187 ; accuracy 0.481\n",
      "epoch 75 : loss 1.7969869 ; accuracy 0.48375\n",
      "epoch 76 : loss 1.7916899 ; accuracy 0.48656666\n",
      "epoch 77 : loss 1.7864271 ; accuracy 0.48991665\n",
      "epoch 78 : loss 1.7811984 ; accuracy 0.49288332\n",
      "epoch 79 : loss 1.7760034 ; accuracy 0.49566665\n",
      "epoch 80 : loss 1.7708418 ; accuracy 0.49881667\n",
      "epoch 81 : loss 1.7657135 ; accuracy 0.5015333\n",
      "epoch 82 : loss 1.7606179 ; accuracy 0.50415\n",
      "epoch 83 : loss 1.7555547 ; accuracy 0.50693333\n",
      "epoch 84 : loss 1.7505239 ; accuracy 0.5095\n",
      "epoch 85 : loss 1.7455252 ; accuracy 0.5121667\n",
      "epoch 86 : loss 1.740558 ; accuracy 0.5148\n",
      "epoch 87 : loss 1.7356224 ; accuracy 0.5172\n",
      "epoch 88 : loss 1.730718 ; accuracy 0.5196\n",
      "epoch 89 : loss 1.7258443 ; accuracy 0.522\n",
      "epoch 90 : loss 1.7210013 ; accuracy 0.5246\n",
      "epoch 91 : loss 1.7161887 ; accuracy 0.52743334\n",
      "epoch 92 : loss 1.7114061 ; accuracy 0.53003335\n",
      "epoch 93 : loss 1.7066535 ; accuracy 0.5325\n",
      "epoch 94 : loss 1.7019305 ; accuracy 0.53475\n",
      "epoch 95 : loss 1.6972365 ; accuracy 0.53705\n",
      "epoch 96 : loss 1.6925721 ; accuracy 0.53928334\n",
      "epoch 97 : loss 1.6879364 ; accuracy 0.5416833\n",
      "epoch 98 : loss 1.6833295 ; accuracy 0.54401666\n",
      "epoch 99 : loss 1.6787506 ; accuracy 0.54608333\n",
      "=======================logits========================= Tensor(\"add_1:0\", shape=(10000, 10), dtype=float32)\n",
      "test loss 1.6590558 ; accuracy 0.5699\n"
     ]
    }
   ],
   "source": [
    "train_data, test_data = mnist_dataset()\n",
    "for epoch in range(100):\n",
    "    loss, accuracy = train_one_step(model, optimizer, \n",
    "                                    tf.constant(train_data[0], dtype=tf.float32), \n",
    "                                    tf.constant(train_data[1], dtype=tf.int64))\n",
    "    print('epoch', epoch, ': loss', loss.numpy(), '; accuracy', accuracy.numpy())\n",
    "loss, accuracy = test(model, \n",
    "                      tf.constant(test_data[0], dtype=tf.float32), \n",
    "                      tf.constant(test_data[1], dtype=tf.int64))\n",
    "\n",
    "print('test loss', loss.numpy(), '; accuracy', accuracy.numpy())"
   ]
  }
 ],
 "metadata": {
  "kernelspec": {
   "display_name": "Python 3",
   "language": "python",
   "name": "python3"
  },
  "language_info": {
   "codemirror_mode": {
    "name": "ipython",
    "version": 3
   },
   "file_extension": ".py",
   "mimetype": "text/x-python",
   "name": "python",
   "nbconvert_exporter": "python",
   "pygments_lexer": "ipython3",
   "version": "3.9.16"
  }
 },
 "nbformat": 4,
 "nbformat_minor": 2
}
